{
  "nbformat": 4,
  "nbformat_minor": 5,
  "metadata": {
    "kernelspec": {
      "display_name": "Python 3",
      "language": "python",
      "name": "python3"
    },
    "language_info": {
      "codemirror_mode": {
        "name": "ipython",
        "version": 3
      },
      "file_extension": ".py",
      "mimetype": "text/x-python",
      "name": "python",
      "nbconvert_exporter": "python",
      "pygments_lexer": "ipython3",
      "version": "3.8.8"
    },
    "colab": {
      "name": "GAN Overview.ipynb",
      "provenance": [],
      "collapsed_sections": []
    },
    "accelerator": "GPU"
  },
  "cells": [
    {
      "cell_type": "markdown",
      "metadata": {
        "id": "2a247ae6-818f-4fff-be73-06a180943801"
      },
      "source": [
        "## TẢN MẠN\n",
        "\n",
        "  Tôi đã rời bỏ công việc viết lách những kiến thức mình đọc được, mình trải qua cũng đã hơn 1 năm nay, lần cuối cùng tôi update một notebook về AI là 16 tháng trước. Cuộc sống của sinh viên năm cuối và một sinh viên mới ra trường bóp chết đi con người của tôi những ngày trước đó. Tôi lao vào làm product để kiếm thêm thu nhập trang trải cuộc sống. Nhưng dần dần tôi cảm thấy mệt mỏi mới hiện tại bởi tôi nghĩ ngày nào cũng cắm đầu từ sáng đến tối, ngày nào cũng làm và code với những thứ có thể bản thân không yêu thích lắm từ AI, Android, Web... Bên cạnh đó lĩnh vực AI nói chung và computer vision là một trong lĩnh vực tôi yêu thích và tôi cảm thấy như đó là điểm mạnh nhất của mình nhưng tôi lại bỏ nó khá lâu và lớp bụi thời gian đã phủ kín những gì tôi biết sau nhiều ngày tôi không dung nạp và tìm hiểu những kiến thức mới. Một ngày tôi bỗng thấy một tài khoản github follow tài khoản của mình có share và fork những notebook của tôi về AI. Thực sự có lẽ ngày hôm đó là ngày vui nhất trong tôi trong năm qua. Bởi tôi cảm nhận được hoá ra những cái mình viết nó cũng có ích với ai đó, và có ai đó đang cần nó. Những cái mình đọc và viết thì không vô dụng. Niềm vui nhỏ bé đó giúp tôi có sự tự tin, khí thế giúp tôi viết lại những notebook. Có thể cũng không thể đểu đặn nhưng bản thân tôi cố gắng sẽ viết những gì khi mình đọc được một kiến thức mới sẽ có một cái notebook. "
      ],
      "id": "2a247ae6-818f-4fff-be73-06a180943801"
    },
    {
      "cell_type": "markdown",
      "metadata": {
        "id": "0a11394b-3104-4a60-b897-117ebf3424f6"
      },
      "source": [
        "Trong lần trở lại này tôi hi vọng câu chuyện của mình có thể giúp một bộ phận ai đó có thể cảm thấy yêu và thích AI hơn. Bởi hơn hết AI không chỉ là toán, là sự phức tạp và mập mờ với những hidden layer, hay sự tính toán phức tạp của những phép gradient descent và update parameters. Với tôi AI thực sự là bạn, là một câu chuyện, mỗi giải thuật là một mảnh ghép một câu chuyện sinh động mà được rút ra và có những triết lý và bài học riêng về cuộc sống và sự thật. Điều đó thực sự là điều bổ ích và hi vọng mọi người cũng có thể ủng hộ tôi cũng như ủng hộ để phát triển AI trở nên tốt hơn và có ngày càng có nhiều ứng dụng hơn trong cuộc sống. Góp phần vào tạo ra giá trị và giúp cuộc sống trở nên tốt đẹp hơn."
      ],
      "id": "0a11394b-3104-4a60-b897-117ebf3424f6"
    },
    {
      "cell_type": "markdown",
      "metadata": {
        "id": "d1ef3ba6-e4b3-498e-86ab-f73d741f69de"
      },
      "source": [
        "## GAN (Generative Adversarial Network)\n",
        "\n",
        "Câu chuyện lần này tôi muốn kể về một câu chuyện về GAN, nếu được dịch ra tiếng Việt đó là (mạng đối thủ chung) tôi cũng không thích cái tên này lắm, và không tự tin vào khả năng tiếng Anh của mình nên tôi gọi nó là GAN. \n",
        "\n",
        "* Ý tưởng bắt nguồn từ cuộc sống\n",
        "\n",
        "Phải chăng cuộc sống luôn đầy rẫy sự rối trá, tràn ngập sự lừa rối. Các hành vi lừa đảo ngày càng được tinh xảo, điều đó khiến các đơn vị chức năng trở nên khó khăn hơn trong cuông cuộc truy vết và phát hiện. Hãy tượng những bức tranh của những hoạ sỹ thiên tài thế giới bị làm giả chúng vẫn hằng ngày được rao bán và nhiều người vẫn mua về sử dụng. Mặc dù chúng ta biết có những đơn vị chức năng cũng đang cố gắng để phát triển kĩ thuật giúp phát hiện tranh giả nhưng thực sự bên làm giả ngày càng đưa ra những kĩ thuật mới những phương pháp mới, vận dụng cao những công nghệ đang có giúp cho tác phẩm làm giả hoàn thiện đến mức 99% so với hàng thật. https://nhandan.vn/nghe-doc-xem/lam-tranh-gia-ngay-cang-trang-tron-647252/\n",
        "\n",
        "Chưa dừng lại ở đó vấn nạn tiền giả luôn là vấn đề nan giải đặc biệt trong dịp Tết, những mùa xuân mà chúng ta sử dụng lượng lớn tiền mặt. Nhưng phải nói là chính chúng ta cũng chưa lường hết được hậu quả và có thể phân biệt được tính nghiêm trọng của nó.\n",
        "\n",
        "Vậy tại sao tôi lại đưa câu chuyện đó vào trong phần giới thiệu về GAN?\n",
        "\n",
        "Nói một cách tổng quát: GAN là một mạng hai thành phần công an D luôn cố gắng phát hiện ra hành vi của tên tội phạm G. G càng cố gắng tinh vi đến bao nhiêu, thì các anh công an D đẹp trai, thông minh với IQ vô cực sẽ phát hiện được thôi. Từ đó chúng ta rút ra một chân lý: \"Lưới trời lồng lộng tuy thưa mà khó lọt\". Nhưng thực tế lưới có dày đến mấy vẫn lọt được nhé. https://thispersondoesnotexist.com/. Hãy vào trang web kia và thử phân biệt, bạn có nghĩ đó là một người không tồn tại. Trình độ làm giả của mấy tên tội phạm G tinh vi lắm. Thực sự để mấy anh công an D theo được nó luôn là một rào cản lớn. \n"
      ],
      "id": "d1ef3ba6-e4b3-498e-86ab-f73d741f69de"
    },
    {
      "cell_type": "markdown",
      "metadata": {
        "id": "c0094693-cbc2-48ab-91f5-b9bee1213a50"
      },
      "source": [
        "Từ ý tưởng đó GAN được phát triển bởi Ian Goodfellow et al.¹ in 2014. GAN được phát triển nhằm mục đích có thể sinh ra một loại dữ liệu mới nó có thể là một bức tranh mới, một khuôn mặt bất kì, hay là một tác phẩm nghệ thuật, cũng có thể là một đoạn nhạc mới. Ứng dụng của nó không tiêu cực như những ví dụ bên trên nó thực sự có những đóng góp đáng kể trong cuộc sống giúp nghệ thuật và máy móc trở nên gần nhau hơn.\n",
        "\n",
        "Nhưng tại sau lại kể câu chuyện trên trong bài GAN chứ. Thực tế rằng để GAN có thể sinh ra được một loại dữ liệu mới như trang web thispersondosexist.com, một khuôn mặt mới được sinh ra ngẫu nhiên. Kết quả đó là một cấu trúc mạng đối thủ người đánh kẻ chạy hai bên rượt đuổi nhau. Một mô hình cố gắng sinh ra một khuôn mặt từ một đống dữ liệu ngẫu nhiên ban đầu đại diện cho phe ác, một bên còn lại đại diện cho công lý đang cố gắng rượt đuổi và phân biệt bức ảnh được sinh ra ban đầu là giả. "
      ],
      "id": "c0094693-cbc2-48ab-91f5-b9bee1213a50"
    },
    {
      "cell_type": "markdown",
      "metadata": {
        "id": "433667b8-191d-4b4c-8385-4c737fce4627"
      },
      "source": [
        "**I. GAN và cấu trúc của GAN**\n",
        "\n",
        "Như đã nhắc trên GAN là một kiến trúc mạng gồm 2 phần:\n",
        " \n",
        " \n",
        "<img src=\"https://developers.google.com/machine-learning/gan/images/gan_diagram.svg\" alt=\"\" srcset=\"\">"
      ],
      "id": "433667b8-191d-4b4c-8385-4c737fce4627"
    },
    {
      "cell_type": "markdown",
      "metadata": {
        "id": "df270c36-431f-4fb5-a978-bdc1b1d3e1a2"
      },
      "source": [
        "Kiến trúc của một mạng GAN gồm có hai thành phần chính: Phần Generator và phần Descriminator. \n",
        "\n",
        "**1. Generation (viết tắt là G)**\n",
        "\n",
        "Một cách đơn giản G là một hàm ánh xạ dữ liệu(random noise)  sang một không gian ẩn để tới không gian biểu diễn dữ liệu, chúng ta có thể xem kiến trúc này là phép biến đổi không gian, cố gắng biến đổi một đầu vào sao cho nó giống nhất với không gian dữ liệu thực tế. \n",
        "\n",
        "* Mô tả toán học:\n",
        "\n",
        "Giả sử không gian nhiễu ngẫu nhiên đầu vào là z và $z \\in R^{|x|} $.\n",
        "\n",
        "Trong đó $z \\in R ^ {|z|}$ và $ x \\in R ^ {|x|} $ là một ảnh thực tế và $|.|$ là kích thước không gian (số chiều dữ liệu).\n",
        "\n",
        "Ví dụ: Trong trang web thispersondoseexist.com một không gian nhẫu nhiên z khi người dùng truy cập trang web được sinh ra, không gian dữ liệu ngẫu nhiên này được một hàm ánh xạ G(z) để hình thành nên một không gian x ( với x là một hình ảnh RGB với with x height x chanel xác định).\n",
        "\n",
        "**2. Descriminator (viết tắt là D)**\n",
        "\n",
        "Trong một mạng GAN cơ bản D được xem như là một phép ánh xạ từ dữ liệu hình ảnh đến xác xuất hình ảnh được biểu diễn từ không gian tạo hay không gian thực tế. Điều này tương đương với việc chúng ta thực hiện nhiệm vụ kiểm định một hình ảnh được sinh ra giống như thế nào với hình ảnh thực tế.\n",
        "\n",
        "* Mô tả toán học\n",
        "\n",
        "$$D: D(x)  \\longrightarrow (0,1)$$\n",
        "\n",
        "D có thể được huấn luyện để phân loại hình ảnh là từ dữ liệu huấn luyện (thực, gần bằng 1) hoặc từ G (giả, gần bằng 0). \n",
        "\n",
        "Khi bộ phân biệt là tối ưu, nó có thể bị đóng băng và bộ tạo G có thể tiếp tục được đào tạo để hạ thấp độ chính xác của bộ phân biệt. Nếu phân phối bộ tạo có thể khớp hoàn toàn với phân phối dữ liệu thực thì bộ phân biệt sẽ bị nhầm lẫn tối đa dự đoán 0,5 cho tất cả các đầu vào. Trong thực tế, D có thể không được đào tạo cho đến khi nó là tối ưu."
      ],
      "id": "df270c36-431f-4fb5-a978-bdc1b1d3e1a2"
    },
    {
      "cell_type": "markdown",
      "metadata": {
        "id": "4ytYhURqadSO"
      },
      "source": [
        "**II. Huấn luyện GAN**\n",
        "\n",
        "Trong một kiến túc của GAN bao gồm 2 thành phần tham số, tham số của G và tham số của phần D. Phần G là sự nỗ lực làm sao khiến cho bộ phân loại tại D nhẫm lẫn tối đa, còn phần D lại cố gắng cải thiện để bản thân có thể được độ chính xác cao nhất trong phần loại. \n",
        "\n",
        "* Huấn luyện Discriminator\n",
        "\n",
        "<img src= \"https://developers.google.com/machine-learning/gan/images/gan_diagram_discriminator.svg\"> </img>\n",
        "\n",
        "\n",
        "Quá trình phần loại 2 sample được tạo từ trình tạo G và từ dữ liệu thực tế được phân qua một kiến trúc D có thể là một kiến trúc FullConection hoặc một ConvNet và được đánh giá quá trình phân loại bằng một làm mất mát $L_D$ (sẽ trình bày công thức phần sau).\n",
        "\n",
        "Để đảm bảo thì trong quá trình training trình tạo G được đóng băng tham số ( fixed parameters). Và chỉ thực hiện update tham số cho phần D thông qua quá trình lan truyền ngược (Backprogation).\n",
        "\n",
        "* Huấn luyện Generation\n",
        "\n",
        "Đào tạo trình tạo G yêu cầu chặt chẽ giữa trình tạo G và bộ phân loại D. Phần đào tạo GAN đối với trình tạo G gồm:\n",
        "\n",
        "> + Đầu vào ngẫu nhiên: Các kiến trúc học máy hiện tại đều có một đầu vào cố định (noise input). \n",
        "\n",
        "> + Trình tạo G: kiến trúc của G có thể là một kiến trúc FullConection hoặc ConvNet... mục đích biến đổi từ đầu vào ngẫu nhiên sang một đầu ra có ý nghĩa ( không gian ngẫu nhiên sang không gian hình ảnh thực tế thông qua việc học sự phân phối và thống kê của dữ liệu từ hình ảnh thực tế tạm gọi là phân phối thực tế). ( Note: bản chất dữ liệu được biểu diễn bằng một phân phối nhất định các phân phối này có thể biểu diễn được hoặc không thể biểu diễn được dưới dạng tiềm thức của con người, chúng ta có thể xem nó như một dạng phân phối ẩn).\n",
        "\n",
        "> - Bộ phân biệt D: phân biệt dữ liệu thật giả. ( cái tên trừu mến người phán xử)\n",
        "\n",
        "> - Đầu ra phân biệt sau khi áp dụng bộ phân loại.\n",
        "\n",
        "> - $L_G$ (hàm mất mát) : hàm này có tác dụng đánh giá quá trình ánh xạ phân phối dữ liệu ngẫu nhiên sang phân phối dữ liệu thực có hiệu quả không và thực hiện phạt nếu như không đánh lừa được người phán xử.\n",
        "\n",
        "\n",
        "<img src = \"https://developers.google.com/machine-learning/gan/images/gan_diagram_generator.svg\"> </img>\n",
        "\n",
        "Quá trình cập nhật trọng số của trình tạo G thì toàn bộ tham số của người phán xử D sẽ được cố định. \n",
        "\n",
        "Quá trình đào tạo được diễn ra luân phiên lý tưởng nhất là người phán xử D sẽ tối ưu với trình tạo G hiện tại. Sau đó trình tạo sẽ được cập nhật. Qúa trình được luân phiên đào tạo. \n",
        "\n",
        "Tuy nhiên trong thực tế, bộ phân biệt có thể không được đào tạo cho đến khi tối ưu, mà chỉ có thể được đào tạo cho một số ít lần lặp và bộ tạo được cập nhật đồng thời với bộ phân biệt. Lý do của vấn đề trên đó là: Qúa trình phân biệt dễ dàng tối ưu và thực hiện hơn nhiều do với quá trình hình thành một trình tạo từ một tập các phân phối hình ảnh đầu vào cho trước. \n",
        "\n",
        "\n",
        "Sự hội tụ: Khi trình tạo được cải thiện trong quá trình đạo tạo, độ chính xác của bộ phân biệt sẽ giảm xuống vì khi đó trình phân biệt D không dễ dàng phân biệt được hàng thật và hàng giá giá trị $p_g(x) =  p_{data}(x) = 0.5$\n",
        "\n",
        "Trong đó $p_g(x)$ là xác suất đưa sau phân biệt thật giả của người phân biệt (tiến tới 1 là thật và 0 là giả) của dữ liệu được hình thành từ trình tạo.\n",
        "\n",
        "$p_{data}(x)$ là xác suất đưa sau phân biệt thật giả của người phân biệt (tiến tới 1 là thật và 0 là giả) của dữ liệu thực tế trong tập training."
      ],
      "id": "4ytYhURqadSO"
    },
    {
      "cell_type": "markdown",
      "metadata": {
        "id": "hR1RiN5uFBGR"
      },
      "source": [
        "**III. Hàm mất mát GAN**\n",
        "\n",
        "Về nguyên tắc hoạt động GAN đang cố gắng tái tạo một phân phối xác suất. Do đó, nên sử dụng các hàm mất mát phản ánh khoảng cách giữa phân phối dữ liệu được tạo ra bởi GAN và phân phối dữ liệu thực. Làm sao để tạo ra được hàm loss để đánh giá và phản ánh chính xác khoảng cách giữa hai phân phối dữ liệu, đó là một trong lĩnh vực được nghiên cứu. Tuy vậy chúng ta có 2 hàm loss cơ bản được giới thiệu:\n",
        "\n",
        "- minmax loss: Được giới thiệu trong bài báo phát hành của kiến trúc GAN vào năm 2014.\n",
        "- Wasserstein loss: Được giới thiệu trong [paper 2017](https://arxiv.org/abs/1701.07875) \n",
        " \n",
        "Một GAN có thể có hai chức năng mất mát: một chức năng huấn luyện trình tạo G và một chức năng huấn luyện bộ phân biệt D. Làm thế nào để hai hàm tổn thất có thể hoạt động cùng nhau để phản ánh thước đo khoảng cách giữa các phân phối xác suất?\n",
        "\n",
        "\n",
        "1. Tổn thất minmax\n",
        "\n",
        "Tác giả của GAN đưa ra một hàm loss chung cho cả hai thành phần tuy nhiên mỗi thành phần lại có cách tối ưu hàm loss khác nhau. Hàm loss đó là MinMax-Loss \n",
        "\n",
        "$$E_x [log(D(x))] + E_z [log(1- D(G(z))]       $$ \n",
        "\n",
        "\n",
        "Trong đó:\n",
        "\n",
        "* $E_x$  là giá trị mong đợi trên các dữ liệu thực tế.\n",
        "\n",
        "* $D(x)$ là ước lượng của bộ phân biệt về xác suất của dữ liệu thực tế là thật.\n",
        "\n",
        "* $G_z$ là đầu ra của trình tạo sau khi ánh xạ đầu vào vector ngẫu nhiên z sang phân phối ngẫu nhiên tái tạo dựa theo phân phối của dữ liệu thực thế.\n",
        "\n",
        "* $D(G(z))$ là ước tính của người phân biệt đối xử về xác suất một trường hợp giả là thật.\n",
        "\n",
        "* $E_z$ là giá trị mong đợi trên tất cả các đầu vào ngẫu nhiên của bộ tạo (trên thực tế, giá trị mong đợi trên tất cả các trường hợp giả được tạo G (z)).\n",
        "\n",
        "Đến đây chúng ta cùng nhau phân tích các điểm:\n",
        "\n",
        "> Công thức trên tương đồng với công thức entropy chéo. $ - p*log(p) - (1-p)*log(1-p)$ \n",
        "\n",
        "> Bộ phân biệt sẽ mong muốn điều gì? Bô phân biệt mong muốn $D(x)$ tức dữ liệu thật có xác suất phân biệt là thật cao tối ưu là 1. Còn mong muốn $D(G(z))$ tức xác suất phân biêt ảnh giả là thật có xác suất tiến tới 0. Khi đạt điều kiện tối ưu đó thì $log(D(x) \\longrightarrow 0$ và $log(1- D(G(z)) \\longrightarrow 0$ khi đó hàm mất mát đạt giá trị lớn nhất.(Do $log(p)$ với $0 < p < 1$ luôn âm)\n",
        "\n",
        "> Vậy đối với trình tạo thì mong muốn điều gì? Trình tạo không có ảnh hưởng và tác động đến $log(D(x)$ mà chỉ đóng góp vào sự ảnh hưởng $log(1 - D(G(z)))$. Điều mong muốn là đầu ra được tạo bởi nhiễu ngẫu nhiên $z$ có thể đánh lừa được người phân biệt để $D(G(z)$ là thật tức $D(G(z)) \\longrightarrow 1$ Tức nó đánh lừa hoàn toàn được trình phân biệt D. Khi đó $log(1-D(G(z)) \\longrightarrow \\infty$. Tức đang cố gắng tối thiểu hóa $log(1-D(G(z))$.\n",
        "\n",
        "Như vậy tưu chung lại trong trường hợp MINMAX_loss, thì trình tạo cố gắng tối thiểu hóa hàm mất mát và trình phân biệt cố gắng tối đa hóa trình phát. \n",
        "\n",
        "2. Modify Mimax-loss \n",
        "\n",
        "Bài báo gốc của GAN lưu ý rằng chức năng mất minimax ở trên có thể khiến GAN bị mắc kẹt trong giai đoạn đầu của quá trình đào tạo GAN khi công việc của người phân biệt là rất dễ dàng. Do đó, bài báo đề xuất sửa đổi tổn thất máy phát để máy phát cố gắng tối đa hóa log D(G(z)).\n",
        "\n",
        "3. Tổn thất Wasserstein\n",
        "\n",
        "Đây là một trong hàm loss biến thể của Minmax-loss với vài điểm khác biệt giữa ý nghĩa của hàm loss.\n",
        "\n",
        "Trong đó với MinMax-Loss thì D(x) hay D(G(z)) cung cấp cho ta một xác xuất một phân biệt một \"instance\" là dữ liệu thực. Xác xuất này năm trong khoảng (0,1) và càng gần 1 tức nó càng giống dữ liệu thực tế. \n",
        "\n",
        "Đối với hàm loss này thì D không thực sự phân loại các \"instance\". Mà với mỗi \"instance\" nó là một giá trị nằm trong (0,1) có thể sử dụng một ngưỡng là 0.5 để quyết định \"instance\" đó là Real - Fake. Khi training D thì D cố gắng làm sao cho khoảng cách của dữ liệu Real và Fake càng lớn nhất. Khi đó giá trị D(x) và D(G(z)) khi này đại diện cho giá trị của dữ liệu được quy chiếu lên hệ trục độ độ ( 1 chiều). Đánh giá sự khác biệt giữa phân phối được tạo ra với phân phối thực tế là thước đo khoảng cách. Vì vậy trong WGAN thì D được gọi là \"critic\". \n",
        "\n",
        "Critic Loss: D(x) - D(G(z))\n",
        "\n",
        "Trong quá trình huấn luyện WGAN thì D cố gắng tối đa hóa critic loss, điều này thể hiện đầu ra giữa phân phối được tạo và phân phối thực tế có sự chênh lệch lớn. Tức 2 phân phối cách biệt nhau lớn trong không gian.\n",
        "\n",
        "Generator Loss: D(G(z))\n",
        "\n",
        "Trình tạo cố gắng tối đa hóa chức năng này. Nói cách khác, Nó cố gắng tối đa để đưa cái khoảng cách của phân phối được tạo gần hơn với phân phối thực tế, cụ thể gần hơn với 1.\n"
      ],
      "id": "hR1RiN5uFBGR"
    },
    {
      "cell_type": "markdown",
      "metadata": {
        "id": "vpQRQrHpBrch"
      },
      "source": [
        "**IV. Các vấn đề của mạng GAN**\n",
        "\n",
        "GAN có một số vấn đề tồn động đang được tích cực giải quyết song hiện tại nó chưa giải quyết được một cách hoàn toàn và triệt để.\n",
        "\n",
        "* Vấn đề 1: Vashing Gradient \n",
        "\n",
        "Khi một trình phân biệt quá tốt thì khiến cho việc giá trị loss của D giảm xuống một cách đáng kể, trong quá trình cập nhật để cải thiện trình tạo G thì gradient bị biến mất. Như vậy một trình phân biệt tốt không giúp cho một trình tạo tiện bộ. \n",
        "\n",
        "Cách khắc phục: Sử dụng hàm loss (2) và (3) ở phần trước.\n",
        "\n",
        "> Loss phiên bản sửa đổi của Minmax-Loss trình tạo cố gắng tối đa hóa Log(G(z)) điều này giúp giảm thiểu sự phụ thuộc trình tạo vào biến mất gradient.\n",
        "\n",
        "> WGAN thì có ưu điểm kể cả khi bạn đạt tối ưu thì Gradient sẽ k bị biến mất. \n",
        "\n",
        "* Vấn đề 2: Mode Collapse\n",
        "\n",
        "Hài lòng với những gì mình có, nếu mô hình tạo ra được một mẫu mà nó có thể tối ưu đc các điều kiện. Nó có xu hướng hài lòng với cái đã có và không còn tạo ra sự đa dạng đầu ra với những đầu vào ngẫu nhiên. \n",
        "\n",
        "<img src = \"https://miro.medium.com/max/1400/1*fNGcuJDskQTNoPR_1C12_g.png\"> </img>\n",
        "\n",
        "Chúng ta có 2 mô hình GAN. Mô hình thứ 2 gần như chỉ sinh toàn bộ số 6.\n",
        "\n",
        "Đây là một bài học cho con người: \"Đừng bao giờ hài lòng với những gì mình có\".\n",
        "\n",
        "<img src  = \"https://i.pinimg.com/564x/75/a8/06/75a8069135fe646ab44bd44737eb7c02.jpg\"> </img>\n",
        "\n",
        "* Vấn đề 3: Khó hội tụ\n"
      ],
      "id": "vpQRQrHpBrch"
    },
    {
      "cell_type": "markdown",
      "metadata": {
        "id": "crTVnLI8V0m8"
      },
      "source": [
        "Tài liệu tham khảo:\n",
        "\n",
        "[1] https://arxiv.org/pdf/1710.07035.pdf\n",
        "\n",
        "[2] https://developers.google.com/machine-learning/gan"
      ],
      "id": "crTVnLI8V0m8"
    },
    {
      "cell_type": "markdown",
      "metadata": {
        "id": "WjESrrmEFIVA"
      },
      "source": [
        "**V. Triển khai GAN**\n",
        "\n",
        "\n",
        "\n"
      ],
      "id": "WjESrrmEFIVA"
    },
    {
      "cell_type": "code",
      "metadata": {
        "id": "81L9K_zmHv2t"
      },
      "source": [
        "import tensorflow as tf"
      ],
      "id": "81L9K_zmHv2t",
      "execution_count": 1,
      "outputs": []
    },
    {
      "cell_type": "code",
      "metadata": {
        "colab": {
          "base_uri": "https://localhost:8080/"
        },
        "id": "9M8lks43HyCM",
        "outputId": "7a86751c-9ded-4aa8-ca76-c63b45df8f8c"
      },
      "source": [
        "# To generate GIFs\n",
        "!pip install imageio\n",
        "!pip install git+https://github.com/tensorflow/docs"
      ],
      "id": "9M8lks43HyCM",
      "execution_count": 2,
      "outputs": [
        {
          "output_type": "stream",
          "text": [
            "Requirement already satisfied: imageio in /usr/local/lib/python3.7/dist-packages (2.4.1)\n",
            "Requirement already satisfied: numpy in /usr/local/lib/python3.7/dist-packages (from imageio) (1.19.5)\n",
            "Requirement already satisfied: pillow in /usr/local/lib/python3.7/dist-packages (from imageio) (7.1.2)\n",
            "Collecting git+https://github.com/tensorflow/docs\n",
            "  Cloning https://github.com/tensorflow/docs to /tmp/pip-req-build-z878clfy\n",
            "  Running command git clone -q https://github.com/tensorflow/docs /tmp/pip-req-build-z878clfy\n",
            "Requirement already satisfied: astor in /usr/local/lib/python3.7/dist-packages (from tensorflow-docs===0.0.0e2abff4864c2895987c866a18db399991e0d7f50-) (0.8.1)\n",
            "Requirement already satisfied: absl-py in /usr/local/lib/python3.7/dist-packages (from tensorflow-docs===0.0.0e2abff4864c2895987c866a18db399991e0d7f50-) (0.12.0)\n",
            "Requirement already satisfied: protobuf>=3.14 in /usr/local/lib/python3.7/dist-packages (from tensorflow-docs===0.0.0e2abff4864c2895987c866a18db399991e0d7f50-) (3.17.3)\n",
            "Requirement already satisfied: pyyaml in /usr/local/lib/python3.7/dist-packages (from tensorflow-docs===0.0.0e2abff4864c2895987c866a18db399991e0d7f50-) (3.13)\n",
            "Requirement already satisfied: six>=1.9 in /usr/local/lib/python3.7/dist-packages (from protobuf>=3.14->tensorflow-docs===0.0.0e2abff4864c2895987c866a18db399991e0d7f50-) (1.15.0)\n",
            "Building wheels for collected packages: tensorflow-docs\n",
            "  Building wheel for tensorflow-docs (setup.py) ... \u001b[?25l\u001b[?25hdone\n",
            "  Created wheel for tensorflow-docs: filename=tensorflow_docs-0.0.0e2abff4864c2895987c866a18db399991e0d7f50_-py3-none-any.whl size=154537 sha256=e6405b100ed6ddbb4853185a193ef7eeee7bbd7cb5d24804c70f1de1460e97a6\n",
            "  Stored in directory: /tmp/pip-ephem-wheel-cache-25drr0r0/wheels/cc/c4/d8/5341e93b6376c5c929c49469fce21155eb69cef1a4da4ce32c\n",
            "\u001b[33m  WARNING: Built wheel for tensorflow-docs is invalid: Metadata 1.2 mandates PEP 440 version, but '0.0.0e2abff4864c2895987c866a18db399991e0d7f50-' is not\u001b[0m\n",
            "Failed to build tensorflow-docs\n",
            "Installing collected packages: tensorflow-docs\n",
            "    Running setup.py install for tensorflow-docs ... \u001b[?25l\u001b[?25hdone\n",
            "\u001b[33m  DEPRECATION: tensorflow-docs was installed using the legacy 'setup.py install' method, because a wheel could not be built for it. A possible replacement is to fix the wheel build issue reported above. You can find discussion regarding this at https://github.com/pypa/pip/issues/8368.\u001b[0m\n",
            "Successfully installed tensorflow-docs-0.0.0e2abff4864c2895987c866a18db399991e0d7f50-\n"
          ],
          "name": "stdout"
        }
      ]
    },
    {
      "cell_type": "code",
      "metadata": {
        "id": "yPvznwjRH2g8"
      },
      "source": [
        "import glob\n",
        "import imageio\n",
        "import matplotlib.pyplot as plt\n",
        "import numpy as np\n",
        "import os\n",
        "import PIL\n",
        "from tensorflow.keras import layers\n",
        "import time\n",
        "\n",
        "from IPython import display"
      ],
      "id": "yPvznwjRH2g8",
      "execution_count": 3,
      "outputs": []
    },
    {
      "cell_type": "code",
      "metadata": {
        "colab": {
          "base_uri": "https://localhost:8080/"
        },
        "id": "KCx8F9HFH5fE",
        "outputId": "094db0f6-bb69-4344-bd9d-0a98e89c2736"
      },
      "source": [
        "(train_images, train_labels), (_, _) = tf.keras.datasets.mnist.load_data()\n",
        "train_images = train_images.reshape(train_images.shape[0], 28, 28, 1).astype('float32')\n",
        "train_images = (train_images - 127.5) / 127.5  # Normalize the images to [-1, 1]"
      ],
      "id": "KCx8F9HFH5fE",
      "execution_count": 4,
      "outputs": [
        {
          "output_type": "stream",
          "text": [
            "Downloading data from https://storage.googleapis.com/tensorflow/tf-keras-datasets/mnist.npz\n",
            "11493376/11490434 [==============================] - 0s 0us/step\n",
            "11501568/11490434 [==============================] - 0s 0us/step\n"
          ],
          "name": "stdout"
        }
      ]
    },
    {
      "cell_type": "code",
      "metadata": {
        "id": "aEG1AG5kIAkr"
      },
      "source": [
        "BUFFER_SIZE = 60000\n",
        "BATCH_SIZE = 256"
      ],
      "id": "aEG1AG5kIAkr",
      "execution_count": 5,
      "outputs": []
    },
    {
      "cell_type": "code",
      "metadata": {
        "id": "1z0655LXIDmj"
      },
      "source": [
        "# Batch and shuffle the data\n",
        "train_dataset = tf.data.Dataset.from_tensor_slices(train_images).shuffle(BUFFER_SIZE).batch(BATCH_SIZE)"
      ],
      "id": "1z0655LXIDmj",
      "execution_count": 6,
      "outputs": []
    },
    {
      "cell_type": "code",
      "metadata": {
        "id": "sDBRDicHIHrc"
      },
      "source": [
        "def generator_model():\n",
        "    model = tf.keras.Sequential()\n",
        "    model.add(layers.Dense(7*7*256, use_bias=False, input_shape=(100,)))\n",
        "    model.add(layers.BatchNormalization())\n",
        "    model.add(layers.LeakyReLU())\n",
        "\n",
        "    model.add(layers.Reshape((7, 7, 256)))\n",
        "    assert model.output_shape == (None, 7, 7, 256)  # Note: None is the batch size\n",
        "\n",
        "    model.add(layers.Conv2DTranspose(128, (5, 5), strides=(1, 1), padding='same', use_bias=False))\n",
        "    assert model.output_shape == (None, 7, 7, 128)\n",
        "    model.add(layers.BatchNormalization())\n",
        "    model.add(layers.LeakyReLU())\n",
        "\n",
        "    model.add(layers.Conv2DTranspose(64, (5, 5), strides=(2, 2), padding='same', use_bias=False))\n",
        "    assert model.output_shape == (None, 14, 14, 64)\n",
        "    model.add(layers.BatchNormalization())\n",
        "    model.add(layers.LeakyReLU())\n",
        "\n",
        "    model.add(layers.Conv2DTranspose(1, (5, 5), strides=(2, 2), padding='same', use_bias=False, activation='tanh'))\n",
        "    assert model.output_shape == (None, 28, 28, 1)\n",
        "\n",
        "    return model"
      ],
      "id": "sDBRDicHIHrc",
      "execution_count": 7,
      "outputs": []
    },
    {
      "cell_type": "code",
      "metadata": {
        "colab": {
          "base_uri": "https://localhost:8080/",
          "height": 792
        },
        "id": "ueZLoVgpITB1",
        "outputId": "f6ff0005-a7c8-47ba-b84a-4131e6e1837f"
      },
      "source": [
        "generator = generator_model()\n",
        "\n",
        "generator.summary()\n",
        "noise = tf.random.normal([1, 100])\n",
        "generated_image = generator(noise, training=False)\n",
        "\n",
        "plt.imshow(generated_image[0, :, :, 0], cmap='gray')"
      ],
      "id": "ueZLoVgpITB1",
      "execution_count": 8,
      "outputs": [
        {
          "output_type": "stream",
          "text": [
            "Model: \"sequential\"\n",
            "_________________________________________________________________\n",
            "Layer (type)                 Output Shape              Param #   \n",
            "=================================================================\n",
            "dense (Dense)                (None, 12544)             1254400   \n",
            "_________________________________________________________________\n",
            "batch_normalization (BatchNo (None, 12544)             50176     \n",
            "_________________________________________________________________\n",
            "leaky_re_lu (LeakyReLU)      (None, 12544)             0         \n",
            "_________________________________________________________________\n",
            "reshape (Reshape)            (None, 7, 7, 256)         0         \n",
            "_________________________________________________________________\n",
            "conv2d_transpose (Conv2DTran (None, 7, 7, 128)         819200    \n",
            "_________________________________________________________________\n",
            "batch_normalization_1 (Batch (None, 7, 7, 128)         512       \n",
            "_________________________________________________________________\n",
            "leaky_re_lu_1 (LeakyReLU)    (None, 7, 7, 128)         0         \n",
            "_________________________________________________________________\n",
            "conv2d_transpose_1 (Conv2DTr (None, 14, 14, 64)        204800    \n",
            "_________________________________________________________________\n",
            "batch_normalization_2 (Batch (None, 14, 14, 64)        256       \n",
            "_________________________________________________________________\n",
            "leaky_re_lu_2 (LeakyReLU)    (None, 14, 14, 64)        0         \n",
            "_________________________________________________________________\n",
            "conv2d_transpose_2 (Conv2DTr (None, 28, 28, 1)         1600      \n",
            "=================================================================\n",
            "Total params: 2,330,944\n",
            "Trainable params: 2,305,472\n",
            "Non-trainable params: 25,472\n",
            "_________________________________________________________________\n"
          ],
          "name": "stdout"
        },
        {
          "output_type": "execute_result",
          "data": {
            "text/plain": [
              "<matplotlib.image.AxesImage at 0x7fc4301c8110>"
            ]
          },
          "metadata": {
            "tags": []
          },
          "execution_count": 8
        },
        {
          "output_type": "display_data",
          "data": {
            "image/png": "[encoded data removed]",
            "text/plain": [
              "<Figure size 432x288 with 1 Axes>"
            ]
          },
          "metadata": {
            "tags": [],
            "needs_background": "light"
          }
        }
      ]
    },
    {
      "cell_type": "code",
      "metadata": {
        "id": "PLo8s0R5UMs_"
      },
      "source": [
        "def discriminator_model():\n",
        "    model = tf.keras.Sequential()\n",
        "    model.add(layers.Conv2D(64, (5, 5), strides=(2, 2), padding='same',\n",
        "                                     input_shape=[28, 28, 1]))\n",
        "    model.add(layers.LeakyReLU())\n",
        "    model.add(layers.Dropout(0.3))\n",
        "\n",
        "    model.add(layers.Conv2D(128, (5, 5), strides=(2, 2), padding='same'))\n",
        "    model.add(layers.LeakyReLU())\n",
        "    model.add(layers.Dropout(0.3))\n",
        "\n",
        "    model.add(layers.Flatten())\n",
        "    model.add(layers.Dense(1))\n",
        "\n",
        "    return model"
      ],
      "id": "PLo8s0R5UMs_",
      "execution_count": 9,
      "outputs": []
    },
    {
      "cell_type": "code",
      "metadata": {
        "colab": {
          "base_uri": "https://localhost:8080/"
        },
        "id": "RydDvB-nUQJm",
        "outputId": "e77b43a3-67b3-48c7-b41e-3e0416b65d7f"
      },
      "source": [
        "discriminator = discriminator_model()\n",
        "decision = discriminator(generated_image)\n",
        "print (decision)"
      ],
      "id": "RydDvB-nUQJm",
      "execution_count": 12,
      "outputs": [
        {
          "output_type": "stream",
          "text": [
            "tf.Tensor([[-0.00179008]], shape=(1, 1), dtype=float32)\n"
          ],
          "name": "stdout"
        }
      ]
    },
    {
      "cell_type": "code",
      "metadata": {
        "id": "mWQIM-0fWbD1"
      },
      "source": [
        "# This method returns a helper function to compute cross entropy loss\n",
        "cross_entropy = tf.keras.losses.BinaryCrossentropy(from_logits=True)"
      ],
      "id": "mWQIM-0fWbD1",
      "execution_count": 13,
      "outputs": []
    },
    {
      "cell_type": "code",
      "metadata": {
        "id": "N3GYF3EGWnK1"
      },
      "source": [
        "\"\"\"\n",
        "Base on Modify mimax-loss \n",
        "\n",
        "D_loss = E_x * log(x) + E_z *  log(G(z))\n",
        "\n",
        "Binary_cross_entropy  của một sự kiện p \n",
        "\n",
        "H = - plog(p) - (1-p) * log(1-p)\n",
        "\n",
        "\"\"\"\n",
        "\n",
        "def discriminator_loss(real_output, fake_output):\n",
        "    real_loss = cross_entropy(tf.ones_like(real_output), real_output)\n",
        "    fake_loss = cross_entropy(tf.zeros_like(fake_output), fake_output)\n",
        "\n",
        "    total_loss = real_loss + fake_loss\n",
        "    return total_loss\n"
      ],
      "id": "N3GYF3EGWnK1",
      "execution_count": 14,
      "outputs": []
    },
    {
      "cell_type": "code",
      "metadata": {
        "id": "5xIHsV4DWp03"
      },
      "source": [
        "def generator_loss(fake_output):\n",
        "    return cross_entropy(tf.ones_like(fake_output), fake_output)"
      ],
      "id": "5xIHsV4DWp03",
      "execution_count": 15,
      "outputs": []
    },
    {
      "cell_type": "code",
      "metadata": {
        "id": "arnYumPBWt1k"
      },
      "source": [
        "generator_optimizer = tf.keras.optimizers.Adam(1e-4)\n",
        "discriminator_optimizer = tf.keras.optimizers.Adam(1e-4)"
      ],
      "id": "arnYumPBWt1k",
      "execution_count": 16,
      "outputs": []
    },
    {
      "cell_type": "code",
      "metadata": {
        "id": "nY7qvMUcWwMk"
      },
      "source": [
        "checkpoint_dir = ''\n",
        "checkpoint_prefix = os.path.join(checkpoint_dir, \"ckpt\")\n",
        "checkpoint = tf.train.Checkpoint(generator_optimizer=generator_optimizer,\n",
        "                                 discriminator_optimizer=discriminator_optimizer,\n",
        "                                 generator=generator,\n",
        "                                 discriminator=discriminator)\n"
      ],
      "id": "nY7qvMUcWwMk",
      "execution_count": 17,
      "outputs": []
    },
    {
      "cell_type": "code",
      "metadata": {
        "id": "p1bm7PcYW2Rc"
      },
      "source": [
        "EPOCHS = 50\n",
        "noise_dim = 100\n",
        "num_examples_to_generate = 16\n",
        "\n",
        "# You will reuse this seed overtime (so it's easier)\n",
        "# to visualize progress in the animated GIF)\n",
        "seed = tf.random.normal([num_examples_to_generate, noise_dim])"
      ],
      "id": "p1bm7PcYW2Rc",
      "execution_count": 18,
      "outputs": []
    },
    {
      "cell_type": "code",
      "metadata": {
        "id": "SemaXYpzW2iU"
      },
      "source": [
        "# Notice the use of `tf.function`\n",
        "# This annotation causes the function to be \"compiled\".\n",
        "@tf.function\n",
        "def train_step(images):\n",
        "    noise = tf.random.normal([BATCH_SIZE, noise_dim])\n",
        "\n",
        "    with tf.GradientTape() as gen_tape, tf.GradientTape() as disc_tape:\n",
        "      generated_images = generator(noise, training=True)\n",
        "\n",
        "      real_output = discriminator(images, training=True)\n",
        "      fake_output = discriminator(generated_images, training=True)\n",
        "\n",
        "      gen_loss = generator_loss(fake_output)\n",
        "      disc_loss = discriminator_loss(real_output, fake_output)\n",
        "\n",
        "    gradients_of_generator = gen_tape.gradient(gen_loss, generator.trainable_variables)\n",
        "    gradients_of_discriminator = disc_tape.gradient(disc_loss, discriminator.trainable_variables)\n",
        "\n",
        "    generator_optimizer.apply_gradients(zip(gradients_of_generator, generator.trainable_variables))\n",
        "    discriminator_optimizer.apply_gradients(zip(gradients_of_discriminator, discriminator.trainable_variables))"
      ],
      "id": "SemaXYpzW2iU",
      "execution_count": 20,
      "outputs": []
    },
    {
      "cell_type": "code",
      "metadata": {
        "id": "x3YLRzjxW991"
      },
      "source": [
        "def train(dataset, epochs):\n",
        "  for epoch in range(epochs):\n",
        "    start = time.time()\n",
        "\n",
        "    for image_batch in dataset:\n",
        "      train_step(image_batch)\n",
        "\n",
        "    # Produce images for the GIF as you go\n",
        "    display.clear_output(wait=True)\n",
        "    generate_and_save_images(generator,\n",
        "                             epoch + 1,\n",
        "                             seed)\n",
        "\n",
        "    # Save the model every 15 epochs\n",
        "    if (epoch + 1) % 15 == 0:\n",
        "      checkpoint.save(file_prefix = checkpoint_prefix)\n",
        "\n",
        "    print ('Time for epoch {} is {} sec'.format(epoch + 1, time.time()-start))\n",
        "\n",
        "  # Generate after the final epoch\n",
        "  display.clear_output(wait=True)\n",
        "  generate_and_save_images(generator,\n",
        "                           epochs,\n",
        "                           seed)"
      ],
      "id": "x3YLRzjxW991",
      "execution_count": 21,
      "outputs": []
    },
    {
      "cell_type": "code",
      "metadata": {
        "id": "_pt3Xv00XFPU"
      },
      "source": [
        "def generate_and_save_images(model, epoch, test_input):\n",
        "  # Notice `training` is set to False.\n",
        "  # This is so all layers run in inference mode (batchnorm).\n",
        "  predictions = model(test_input, training=False)\n",
        "\n",
        "  fig = plt.figure(figsize=(4, 4))\n",
        "\n",
        "  for i in range(predictions.shape[0]):\n",
        "      plt.subplot(4, 4, i+1)\n",
        "      plt.imshow(predictions[i, :, :, 0] * 127.5 + 127.5, cmap='gray')\n",
        "      plt.axis('off')\n",
        "\n",
        "  plt.savefig('image_at_epoch_{:04d}.png'.format(epoch))\n",
        "  plt.show()"
      ],
      "id": "_pt3Xv00XFPU",
      "execution_count": 22,
      "outputs": []
    },
    {
      "cell_type": "code",
      "metadata": {
        "colab": {
          "base_uri": "https://localhost:8080/",
          "height": 265
        },
        "id": "LjmKQBtpXH8d",
        "outputId": "1408bfa8-660f-406d-ce93-b6e700535166"
      },
      "source": [
        "train(train_dataset, 50)"
      ],
      "id": "LjmKQBtpXH8d",
      "execution_count": null,
      "outputs": [
        {
          "output_type": "display_data",
          "data": {
            "image/png": "[encoded data removed]",
            "text/plain": [
              "<Figure size 288x288 with 16 Axes>"
            ]
          },
          "metadata": {
            "tags": [],
            "needs_background": "light"
          }
        },
        {
          "output_type": "stream",
          "text": [
            "Time for epoch 10 is 26.248363494873047 sec\n"
          ],
          "name": "stdout"
        }
      ]
    },
    {
      "cell_type": "code",
      "metadata": {
        "colab": {
          "base_uri": "https://localhost:8080/"
        },
        "id": "kAa-sJUuXJ50",
        "outputId": "7260df8b-0ba2-4f39-c5b5-180ec2a25871"
      },
      "source": [
        "checkpoint.restore(tf.train.latest_checkpoint(checkpoint_dir))"
      ],
      "id": "kAa-sJUuXJ50",
      "execution_count": 24,
      "outputs": [
        {
          "output_type": "execute_result",
          "data": {
            "text/plain": [
              "<tensorflow.python.training.tracking.util.CheckpointLoadStatus at 0x7fc38ff29350>"
            ]
          },
          "metadata": {
            "tags": []
          },
          "execution_count": 24
        }
      ]
    },
    {
      "cell_type": "code",
      "metadata": {
        "id": "qWdoLPBAXMLr"
      },
      "source": [
        "# Display a single image using the epoch number\n",
        "def display_image(epoch_no):\n",
        "  return PIL.Image.open('image_at_epoch_{:04d}.png'.format(epoch_no))"
      ],
      "id": "qWdoLPBAXMLr",
      "execution_count": 25,
      "outputs": []
    },
    {
      "cell_type": "code",
      "metadata": {
        "colab": {
          "base_uri": "https://localhost:8080/",
          "height": 305
        },
        "id": "kQaJ5lMgXOkI",
        "outputId": "ca5be4e9-54e9-4a20-cc89-d539a19776cf"
      },
      "source": [
        "display_image(EPOCHS)"
      ],
      "id": "kQaJ5lMgXOkI",
      "execution_count": 26,
      "outputs": [
        {
          "output_type": "execute_result",
          "data": {
            "image/png": "[encoded data removed]",
            "text/plain": [
              "<PIL.PngImagePlugin.PngImageFile image mode=RGBA size=288x288 at 0x7FC38FF3E090>"
            ]
          },
          "metadata": {
            "tags": []
          },
          "execution_count": 26
        }
      ]
    },
    {
      "cell_type": "markdown",
      "metadata": {
        "id": "y6n6Tv9DbSJk"
      },
      "source": [
        "Toàn bộ source code tham khảo từ trang web chính thức của google: https://www.tensorflow.org/tutorials/generative/dcgan"
      ],
      "id": "y6n6Tv9DbSJk"
    }
  ]
}