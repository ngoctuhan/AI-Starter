{
  "nbformat": 4,
  "nbformat_minor": 0,
  "metadata": {
    "colab": {
      "name": "GAN Problem and Variants.ipynb",
      "provenance": [],
      "collapsed_sections": []
    },
    "kernelspec": {
      "name": "python3",
      "display_name": "Python 3"
    },
    "language_info": {
      "name": "python"
    }
  },
  "cells": [
    {
      "cell_type": "markdown",
      "metadata": {
        "id": "bxOLVR5Ak7M1"
      },
      "source": [
        "Trong bài trước tôi đã giới thiệu về kiến trúc của một mạng GAN tiêu chuẩn với những vấn đề cơ bản của một mạng GAN. Cũng như thử huấn luyện một mạng GAN cơ bản với MNIST dataset. \n",
        "\n",
        "Trong bài này chúng ta sẽ cần làm rõ những vấn đề còn tồn đọng của GAN, những điểm yếu và cũng như là những điểm cần được tích cực nghiên cứu và cải thiện hơn cấu trúc GAN.\n",
        "\n",
        "Trong bài viết này có 2 phần:\n",
        "\n",
        "I. Các vấn đề cố hữu của mạng GAN \n",
        "\n",
        "II. Các biến thể của mạng GAN\n"
      ]
    },
    {
      "cell_type": "markdown",
      "metadata": {
        "id": "Ynuipe3fldOO"
      },
      "source": [
        "Các vấn đề được tham khảo từ loạt bài viết về GAN của tác giả: Jonathan-hui trên medium.com\n",
        "\n",
        "## I. Các vấn đề của mạng GAN\n",
        "\n",
        "Trong bài trước giới thiệu về GAN chúng ta thấy một vài nhược điểm của mạng GAN, chính vì thế trong bài viết này chúng ta cùng làm rõ tại sao có những nhược điểm đó, và nó đến từ đâu. \n",
        "\n",
        "1. Không thể hội tụ\n",
        "\n",
        "GAN được hình thành từ quá trình đối nghịch của hai kiến trúc mạng liên tục là đối thủ nhau trong quá trình huấn luyện. Qúa trình này là một trò chơi min max, G luôn muốn MIN trong cuộc chơi, còn D luôn muốn MAX. Trò chơi này rất khó để có thể có người nào chiến thắng tuyệt đối mà giúp thỏa mãn hai cái yêu cầu của D và G. Chính lẻ đó cả 2 chỉ có thể cùng thỏa hiệp để mỗi bên đều có lợi và mỗi bên đều không còn bị ảnh hưởng bởi nhau trạng thái thỏa hiệp này người ta có một thuật ngữ gọi là \"Nash equilibrium\" hay trạng thái cân bằng Nash.\n",
        "\n",
        "Trạng thái cân bằng Nash có thể xảy ra khi cả hai một người chơi không có một ảnh hưởng tác động nào nếu người chơi còn lại có làm gì. \n",
        "\n",
        "Để hiêu rõ hơn chúng ta cùng phân tích một trò chơi.\n",
        "\n",
        "Tôi có hai người chơi A và B và một phương trình đơn giản f = xy. Người chơi A muốn cố gắng làm tối đa hóa hàm f còn người B thì ngược lại nó. Qúa trình tương tự như công việc tối ưu của D và G trong kiến trúc của GAN.\n",
        "\n",
        "Dễ dàng nhận thấy điểm cân bằng Nash ở đây là x = y = 0. Tức dù cho bên còn lại có như thế nào thì sẽ một bên còn lại không ảnh hưởng, và đó là điệu kiện lý tưởng để hai bên không còn cạnh tranh nhau. Tôi không thể hơn anh và anh không thể hơn tôi được. \n",
        "\n",
        "Nếu sử dụng kĩ thuật Gradient descent cho bài toán trên để tìm nghiệm:\n",
        "\n",
        "<img src = \"https://miro.medium.com/max/1400/1*9xEKBcCRS7rbKoxXYsip-Q.jpeg\"> </img>\n",
        "\n",
        "Trong đó $\\alpha$ là tỉ số học tập, hay còn gọi tốc độ học. \n",
        "\n",
        "Quán sát sự thay đổi của x và y dẫn đến sự thay đổi của xy\n",
        "\n",
        "<img src = \"https://miro.medium.com/max/1400/1*6TSfFPMoHqkiQpmZYsVulw.png\"></img> \n",
        "\n",
        "\n",
        "Chúng ta thấy đồ thị của trên không phải là hàm lồi vì vậy sẽ gần như không tìm kiếm được điểm tối ưu thõa mãn các điều kiện. \n",
        "\n",
        "Ví dụ của trên là một minh chứng tuyệt vời rằng một số hàm chi phí sẽ không hội tụ với độ dốc gradient, đặc biệt là đối với một trò chơi không lồi.\n",
        "\n",
        "\n",
        "2. Unstable gradients\n",
        "\n",
        "Arjovsky đóng băng trình tạo và huấn luyện liên tục bộ phân biệt. Gradient cho trình tạo bắt đầu tăng với các biến thể lớn hơn.\n",
        "\n",
        "\n",
        "<img src = \"https://miro.medium.com/max/1400/1*XC_uXM3PaCwTzuTSlOtSEA.png\"> </img>\n",
        "\n",
        "\n",
        "Thí nghiệm trên không phải là cách chúng ta huấn luyện GAN. Tuy nhiên, về mặt toán học, Arjovsky cho thấy hàm mục tiêu của bộ tạo GAN đầu tiên có các độ dốc biến mất và hàm chi phí thay thế có độ dốc dao động gây ra sự không ổn định cho các mô hình. Kể từ bài báo GAN ban đầu, có một cơn sốt vàng trong việc tìm kiếm các hàm chi phí mới, như LSGAN, WGAN, WGAN-GP, BEGAN, v.v. Mục tiêu là tìm một hàm chi phí với độ dốc mượt mà hơn và không biến mất.\n",
        "\n",
        "3. Model Colabse\n"
      ]
    },
    {
      "cell_type": "markdown",
      "metadata": {
        "id": "s0z8d-RMvljc"
      },
      "source": [
        "## II. Các biến thể của GAN\n",
        "\n",
        "GAN có nhiều các biến thể của GAN đều gắn với những ứng dụng cụ thể của GAN trong một nhiệm vụ hoặc ngữ cảnh nhất định. Từ đó có thay đổi những phong cách huấn luyện, cũng như ngữ cảnh đầu vào. Sau đây chúng ta cùng khám phá những biến thể phổ biến của GAN.\n",
        "\n",
        "Trong vài năm trở lại đây các ứng dụng GAN ngày xuất hiện càng nhiều như FaceApp nổi trend trên mạng xã hội.\n",
        "\n",
        "<img src = \"https://securitybox.vn/wp-content/uploads/2019/07/faceapp.jpg\"> </img>\n",
        "\n",
        "Hay ứng dụng remini giúp khôi phục và nâng cao chât lượng ảnh: \n",
        "\n",
        "<img src = \"https://i2.wp.com/ghienreview.com/wp-content/uploads/2020/03/Ghien-review-Remini-6.jpg?fit=1000%2C500&ssl=1\"> </img>\n",
        "\n",
        "Vẽ tranh anime cho nhứng bộ truyện tranh:\n",
        "\n",
        "<img src = \"https://miro.medium.com/max/1400/1*4oqZHrOOZRDzMsJA_eqW1g.png\"> </img>\n",
        "\n",
        "\n",
        "Tất cả trên chỉ là số ít các ứng dụng phổ biến mà chúng ta thường xuyên gặp và sử dụng trong cuộc sống mà thôi. Còn nhiều ứng dụng khác mà nhiều ông lớn như Adobe, Nvidia cũng đã sử dụng và có ứng dụng của riêng họ. \n",
        "\n",
        "Với sự đa dạng nên GAN có nhiều biến thể để phù hợp hơn với nhiều loại mục đích sử dụng khác nhau:\n",
        "\n",
        "**1. Progressive GANs**\n",
        "\n",
        "PGAN là một trong nhúng phiên bản cải tiến của GAN giúp cho xuất trình tạo tạo ra những hình ảnh có chất lượng cao hơn và có độ chân thực đáng kể mà chỉ bắt đầu với một hình ảnh rất nhỏ về độ phân giải và chi tiết (Đang được sử dụng trong Remini)\n",
        "\n",
        "**2. Conditional GANs**\n",
        "\n",
        "GAN có điều kiện đào tạo trên một tập dữ liệu có nhãn và cho phép bạn chỉ định nhãn cho mỗi đầu ra được tạo. Ví dụ: MNIST GAN không điều kiện sẽ tạo ra các chữ số ngẫu nhiên, trong khi MNIST GAN có điều kiện sẽ cho phép bạn chỉ định chữ số nào mà GAN ​​sẽ tạo ra.\n",
        "\n",
        "Thay vì lập mô hình xác suất chung P (X, Y), GAN có điều kiện lập mô hình xác suất có điều kiện P (X | Y).\n",
        "\n",
        "**3. Cycle GAN**\n",
        "Các CycleGAN học cách chuyển đổi hình ảnh từ một tập hợp này thành hình ảnh có thể thuộc về một tập hợp khác một cách hợp lý. Ví dụ, một CycleGAN tạo ra hình ảnh bên phải bên dưới khi đưa hình ảnh bên trái làm đầu vào. Nó đã lấy một hình ảnh của một con ngựa và biến nó thành hình ảnh của một con ngựa vằn.\n",
        "\n",
        "\n",
        "**4. Star GAN**\n",
        "StarGAN là một bản dịch từ hình ảnh sang hình ảnh cho miền này sang miền khác. Ví dụ, với một khuôn mặt vui vẻ, chúng ta muốn biến nó thành một khuôn mặt sợ hãi.\n",
        "\n",
        "**5. PixelDTGAN**\n",
        "Đề xuất hàng hóa dựa trên hình ảnh của người nổi tiếng đã trở nên phổ biến đối với các blogger thời trang và thương mại điện tử. PixelDTGAN tạo hình ảnh và phong cách quần áo từ một hình ảnh.\n",
        "\n",
        "**6. StyleGAN & StyleGAN2**\n",
        "Tạo ra các hình ảnh có độ phân giải cao\n",
        "\n",
        "**7. GauGAN** \n",
        "GauGAN tổng hợp các hình ảnh thực tế với một bố cục ngữ nghĩa đầu vào.\n",
        "\n",
        "**8. StackGAN**\n",
        "Văn bản thành hình ảnh là một trong những ứng dụng trước đây của GAN chuyển miền. Chúng tôi nhập một câu và tạo ra nhiều hình ảnh phù hợp với mô tả.\n",
        "\n",
        "**9. DiscoGAN**\n",
        "DiscoGAN cung cấp phong cách phù hợp: nhiều ứng dụng tiềm năng. DiscoGAN học mối quan hệ tên miền chéo mà không cần nhãn hoặc ghép nối. Ví dụ: nó chuyển thành công kiểu dáng (hoặc các mẫu) từ miền này (túi xách) sang miền khác (giày).\n",
        "\n",
        "**10. Pix2Pix**\n",
        "Pix2Pix là một bản dịch từ hình ảnh sang hình ảnh thường được trích dẫn trong bài báo của GAN trên nhiều miền. Ví dụ, nó chuyển đổi một hình ảnh vệ tinh thành một bản đồ (phía dưới bên trái).\n",
        "\n",
        "**11. DTN**\n",
        "Tạo biểu tượng cảm xúc từ hình ảnh."
      ]
    }
  ]
}