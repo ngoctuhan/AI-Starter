{
 "cells": [
  {
   "cell_type": "markdown",
   "metadata": {},
   "source": [
    "### Một chút kiến thức vật lý khá \"Cerebral Palsy\" \n",
    "\n",
    "Để có thể đọc và hiểu được những gì sắp diễn ra trong bài viết này thì chúng ta cần phải cố gắng \"brainstorn\" chứ đọc cả thanh xuân may ra mới hiểu được nhé. Nhưng cuộc sống mà có những thứ khó khăn lại khiến chúng ta trưởng thành hơn, và chính khó khăn ấy tôi rèn nên một chúng ta của ngày hôm nay và khác biệt ngày hôm qua. \n",
    "\n",
    "Sự thành công của ngày hôm qua không đảm bảo cho chúng ta một ngày mai tươi sáng, chính lẽ đó phải luôn làm mới mình, phải luôn thay đổi bản thân, và không ngừng cố gắng và vươn lên. Ngày hôm qua chúng ta có thể thua thiệt nhiều thứ IQ 90 hay cũng chẳng có background math một cách quá khủng bố. Nhưng không phải vì thế mà chúng ta chịu thua thiệt, bởi lẻ sự thành công tương lại không được đảm bảo bằng mấy thứ trên, mà đó là sự cố gắng, sự vươn lên của chúng ta để hướng đến cái gọi là ngày mai, cái gọi là tương lại. \n",
    "\n",
    "Tại sao tôi lại viết những điều đó, Tại sao ư ? Những thứ sắp diễn ra có thể sẽ không mấy suôn sẻ với nhiều người trong đó có cả tôi, người đang ngồi gõ từng câu chữ trên bàn phím để khích lệ tinh thần người đọc cũng là khích lệ bản thân phải cố gắng.\n",
    "Đến một tên đại ngốc như \"Cẩu Tạp Chủng\", \"Hư Trúc\" hay chàng khờ \"Quách Tĩnh\" còn là những tên máu mặt trong giang hồ khiến người ta nể vài phần trong vũ trụ kiếm hiệp Kim Chung. Vậy thì tại sao chúng ta không làm điều gì nó đổi bật hơn trong vũ trụ này. “Sinh ra trên đời là một việc hết sức đơn giản nhưng sống trên đời lại là một việc rất khó...\" Và làm được một việc gì đó lại càng khó hơn.\n",
    "\n",
    "Vì vậy hãy không ngừng trau chuốt cho bản thân, biết đâu ngày mai kia bạn sẽ là một ngôi sao sáng trong cái vũ trụ bao la này. Hãy tỏa sáng theo cách của bạn. \n",
    "\n",
    "Trong bài viết này tôi sẽ trình bày một vấn đề mà tối cảm thấy khá rối não, và trước đó tôi chưa bao giờ biết đến trước đó.\n",
    "Tôi cảm thấy khó khăn và hoang mang với đống dữ liệu và bản thân mình phải bơi trong đó, vật lỗi với nó, với bản ghi đầy rẫy con số, khiến cho người ta nhìn vào cảm thấy chóng mặt và buồn nôn. Nhưng để phát tan giới hạn bản thân tôi quyết định thực hiện nó, biến điều không tưởng thành hiện thực. \"I can do it, you can do it\". \n",
    "\n",
    "### Accelerometer, Gyroscope, Magnetometer dùng để làm gì?"
   ]
  },
  {
   "cell_type": "markdown",
   "metadata": {},
   "source": [
    "Đây là lần đàu tiên tôi làm về loại dữ liệu này, bởi vì vậy mà tôi cố gắng viết lại những nội dung tôi hiểu được. Nếu đâu đó một ngày sau này tôi cần đọc lại chúng, hoặc nó cũng là tài liệu tốt cho ai đó, để giúp cho người đọc có thể nắm bắt, và vỡ ra một điều gì đó.\n",
    "\n",
    "![](https://miro.medium.com/max/248/0*CvgN0Q_ngdtDnDb6.png)\n",
    "\n"
   ]
  },
  {
   "cell_type": "markdown",
   "metadata": {},
   "source": [
    "Hệ thống tọa độ dùng trong senser là hệ trục toạn độ 3 chiều Ox, Oy, Oz. \n",
    "Trong đó như hình vẽ giả sử khi bạn cầm điện thoại thẳng đứng hướng về phía bạn.\n",
    "\n",
    "* Trục y là truc hướng lên trên của điện thoại\n",
    "* Trục x là trục hướng về phía bên phải cạnh của điện thoại\n",
    "* Trục z là trục hướng về phía màn hình vào phía bạn"
   ]
  },
  {
   "cell_type": "markdown",
   "metadata": {},
   "source": [
    "### Accelerometer là gì?\n",
    "\n",
    "Về mặt vật lý, đây có lẽ là loại sensor gần gũi và phổ biên nhất. Nó dùng để đo gia tốc của 1 vật trong không gian 3 chiều.\n",
    "\n",
    "Acceleration sensor đo gia tốc dưới tác động của trọng trường, còn cái còn lại đo gia tốc không tính trọng trường (proper accelerometer: gia tốc của vật ấy so với chính nó của trạng thái nghỉ, bỏ qua gia tốc trọng trường).\n",
    "\n",
    "Để dễ hiểu thì trong điện thoại, khi điện thoại của bạn ở trạng thái tĩnh thì acceleration sensor sẽ có magnitude value là khoảng 9.8 (m/s2), còn Linear acceleration sensor sẽ có magnitude value là 0 (m/s2)."
   ]
  },
  {
   "cell_type": "markdown",
   "metadata": {},
   "source": [
    "![](https://miro.medium.com/max/1400/1*ZJ8-YY4_X44772z0GeOG7w.png)\n",
    "\n",
    "Ví dụ về Accelerometer data khi điện thoại ở trạng thái nghỉ (không có ngoại lực tác động)"
   ]
  },
  {
   "cell_type": "markdown",
   "metadata": {},
   "source": [
    "hư bạn thấy ở ví dụ trên, vì là không gian 3 chiều nên sẽ có 3 trục x, y, z. Nhưng x và y là 0 vì mình không di chuyển nó. còn z bị tác dụng của trọng lực kéo xuống, nên giá trị của nó bằng chính giá trị gia tốc trọng lực tại vị trí của điện thoại. (Bạn cũng có thể dựa vào 3 con số này để đoán được vị trí của điện thoại đấy! Ví dụ như trong hình 2, dựa vào 3 giá trị x, y, z = 0, 0, 9.96, mình có thể kết luận là điện thoại đang được nằm trên mặt phẳng, với màn hình hướng lên trời."
   ]
  },
  {
   "cell_type": "markdown",
   "metadata": {},
   "source": [
    "Về mặt ứng dụng, Accelerometer là sensor được sử dụng phổ biến nhất. Bắt nguồn từ việc nó có thể giúp bạn nhận dạng được gia tốc chuyển động của điện thoại, Accelerometer được dùng trong rất nhiều các ứng dụng khác nhau, từ nghiên cứu cho đến ứng dụng hàng ngày mà bạn đang sử dụng trong thiết bị điện thoại của bạn. Nổi bật nhất là dùng Accelerometer để phân biệt motions. Ví dụ như Machine Learning sử dụng Accelerometer có thể phân biệt được là bạn đang đi bộ, đang chạy, hay đang tập thể dục. Hay việc nó giúp smartphone nhận diện được bạn đang cầm điện thoại theo tư thế nào, để từ đấy tự động xoay màn hình."
   ]
  },
  {
   "cell_type": "markdown",
   "metadata": {},
   "source": [
    "### Gyroscope\n",
    "\n",
    "Accelerometer rất hữu dụng. Tuy nhiên, nó lại không giải quyết được một số trường hợp. Ví dụ như nó chỉ có thể giúp bạn nhận ra điện thoại có đang di chuyển hay không (bản chất là nếu sensor trong điện thoại di chuyển có nghĩa là điện thoại di chuyển). Tuy nhiên, trong tình huống: ví dụ bạn lấy sensor làm tâm, xoay điện thoại quay tâm ấy, thì điều gì xảy ra? Giá trị x, y, z của Accelerometer không đổi phải không? Hãy phân tích nhanh xem vì sao lại thế bằng cách phân tích lực tác động lên x, y, z:\n",
    "\n",
    "* Khi xoay điện thoại lấy sensor làm tâm, khi đấy độ cao của điện thoại không đổi. Vì thế gia tốc trục z không đổi. (mình đang để điện thoại nằm ngang, mặt điện thoại hướng lên trời)\n",
    "\n",
    "* Sensor cũng không di chuyển sang phải, và cũng không bị dịch chuyển lên trên. Vì thế gia tốc trên trục x, và y cũng không đổi.\n",
    "\n",
    "![](https://miro.medium.com/max/1400/1*DUIY389iPbxlnJVzh-0abQ.png)"
   ]
  },
  {
   "cell_type": "markdown",
   "metadata": {},
   "source": [
    "Về mặt vật lý, Gyroscope là 1 thiết bị dùng để đo hướng (orientation) và vận tốc góc (angular velocity). Lí thuyết vật lý về Gyro khá thú vị, nhưng nó nằm ngoài phạm vi của bài, nên mình sẽ không đề cập ở đây. Nhưng mình sẽ để links ở phía cuối bài cho bạn nào quan tâm. Trong Android và IOS, Gyroscope sensor sẽ trả lại giá trị vận tốc góc trên 3 trục x, y, z. Hãy nhìn qua ví dụ để xem nó nhìn như thế nào nhé.\n",
    "\n",
    "![](https://miro.medium.com/max/1400/1*XmsyoZJczV_MrX2_QoVRuQ.png)\n",
    "\n",
    "![](https://miro.medium.com/max/1400/1*BcJNqfB3rwYg94q9KifVWw.png)"
   ]
  },
  {
   "cell_type": "markdown",
   "metadata": {},
   "source": [
    "### Dữ liệu raw từ các sensor\n",
    "\n",
    "Tập dữ liệu mẫu: https://archive.ics.uci.edu/ml/datasets/human+activity+recognition+using+smartphones\n",
    "\n",
    "Dữ liệu raw từ các sensor được lấy mẫu bởi tần số lấy mẫu xác định thông thường 50Hz.\n",
    "\n",
    "Các tín hiệu cảm biến (gia tốc kế và con quay hồi chuyển) được xử lý trước bằng cách áp dụng các bộ lọc nhiễu và sau đó lấy mẫu trong các cửa sổ trượt có chiều rộng cố định 2,56 giây và chồng chéo 50% (128 lần đọc / cửa sổ). Tín hiệu gia tốc cảm biến, có các thành phần chuyển động hấp dẫn và cơ thể, được tách ra bằng bộ lọc thông thấp Butterworth thành gia tốc cơ thể và trọng lực. Lực hấp dẫn được cho là chỉ có các thành phần tần số thấp, do đó, một bộ lọc có tần số cắt 0,3 Hz đã được sử dụng. Từ mỗi cửa sổ, một vectơ các tính năng đã thu được bằng cách tính toán các biến từ miền thời gian và tần số."
   ]
  },
  {
   "cell_type": "markdown",
   "metadata": {},
   "source": [
    "### Xử lí dữ liệu raw từ các sensor\n",
    "\n",
    "Trong phạm vi đề tài lần này tôi chỉ sử dụng các chỉ số được đo đạc từ Accelerometer sensor."
   ]
  },
  {
   "cell_type": "code",
   "execution_count": 1,
   "metadata": {},
   "outputs": [
    {
     "name": "stdout",
     "output_type": "stream",
     "text": [
      "(7352, 128, 3)\n"
     ]
    }
   ],
   "source": [
    "# load dataset\n",
    "from numpy import dstack\n",
    "from pandas import read_csv\n",
    " \n",
    "# load a single file as a numpy array\n",
    "def load_file(filepath):\n",
    "    dataframe = read_csv(filepath, header=None, delim_whitespace=True)\n",
    "    return dataframe.values\n",
    " \n",
    "# load a list of files, such as x, y, z data for a given variable\n",
    "def load_group(filenames, prefix=''):\n",
    "    loaded = list()\n",
    "    for name in filenames:\n",
    "        data = load_file(prefix + name)\n",
    "        loaded.append(data)\n",
    "    # stack group so that features are the 3rd dimension\n",
    "    loaded = dstack(loaded)\n",
    "    return loaded\n",
    " \n",
    "# load the total acc data\n",
    "filenames = ['total_acc_x_train.txt', 'total_acc_y_train.txt', 'total_acc_z_train.txt']\n",
    "total_acc = load_group(filenames, prefix='UCI HAR Dataset/train/Inertial Signals/')\n",
    "print(total_acc.shape)\n"
   ]
  },
  {
   "cell_type": "code",
   "execution_count": 10,
   "metadata": {},
   "outputs": [
    {
     "name": "stdout",
     "output_type": "stream",
     "text": [
      "(7352, 128, 6) (7352, 1)\n",
      "(2947, 128, 6) (2947, 1)\n"
     ]
    }
   ],
   "source": [
    "# load a dataset group, such as train or test\n",
    "def load_dataset(group, prefix=''):\n",
    "    filepath = prefix + group + '/Inertial Signals/'\n",
    "    # load all 9 files as a single array\n",
    "    filenames = list()\n",
    "    # total acceleration\n",
    "    filenames += ['total_acc_x_'+group+'.txt', 'total_acc_y_'+group+'.txt', 'total_acc_z_'+group+'.txt']\n",
    "    # body acceleration\n",
    "    filenames += ['body_acc_x_'+group+'.txt', 'body_acc_y_'+group+'.txt', 'body_acc_z_'+group+'.txt']\n",
    "    # body gyroscope\n",
    "#     filenames += ['body_gyro_x_'+group+'.txt', 'body_gyro_y_'+group+'.txt', 'body_gyro_z_'+group+'.txt']\n",
    "    # load input data\n",
    "    X = load_group(filenames, filepath)\n",
    "    # load class output\n",
    "    y = load_file(prefix + group + '/y_'+group+'.txt')\n",
    "    return X, y\n",
    "# load all train\n",
    "trainX, trainy = load_dataset('train', 'UCI HAR Dataset/')\n",
    "print(trainX.shape, trainy.shape)\n",
    "# load all test\n",
    "testX, testy = load_dataset('test', 'UCI HAR Dataset/')\n",
    "print(testX.shape, testy.shape)"
   ]
  },
  {
   "cell_type": "code",
   "execution_count": 2,
   "metadata": {},
   "outputs": [
    {
     "name": "stdout",
     "output_type": "stream",
     "text": [
      "Train Dataset\n",
      "Class=1, total=1226, percentage=16.676\n",
      "Class=2, total=1073, percentage=14.595\n",
      "Class=3, total=986, percentage=13.411\n",
      "Class=4, total=1286, percentage=17.492\n",
      "Class=5, total=1374, percentage=18.689\n",
      "Class=6, total=1407, percentage=19.138\n",
      "Test Dataset\n",
      "Class=1, total=496, percentage=16.831\n",
      "Class=2, total=471, percentage=15.982\n",
      "Class=3, total=420, percentage=14.252\n",
      "Class=4, total=491, percentage=16.661\n",
      "Class=5, total=532, percentage=18.052\n",
      "Class=6, total=537, percentage=18.222\n",
      "Both\n",
      "Class=1, total=1722, percentage=16.720\n",
      "Class=2, total=1544, percentage=14.992\n",
      "Class=3, total=1406, percentage=13.652\n",
      "Class=4, total=1777, percentage=17.254\n",
      "Class=5, total=1906, percentage=18.507\n",
      "Class=6, total=1944, percentage=18.876\n"
     ]
    }
   ],
   "source": [
    "# summarize class balance\n",
    "from numpy import array\n",
    "from numpy import vstack\n",
    "from pandas import read_csv\n",
    "from pandas import DataFrame\n",
    "# summarize the balance of classes in an output variable column\n",
    "def class_breakdown(data):\n",
    "    # convert the numpy array into a dataframe\n",
    "    df = DataFrame(data)\n",
    "    # group data by the class value and calculate the number of rows\n",
    "    counts = df.groupby(0).size()\n",
    "    # retrieve raw rows\n",
    "    counts = counts.values\n",
    "    # summarize\n",
    "    for i in range(len(counts)):\n",
    "        percent = counts[i] / len(df) * 100\n",
    "        print('Class=%d, total=%d, percentage=%.3f' % (i+1, counts[i], percent))\n",
    " \n",
    "# load train file\n",
    "\n",
    "trainy = load_file('UCI HAR Dataset/train/y_train.txt')\n",
    "# summarize class breakdown\n",
    "print('Train Dataset')\n",
    "class_breakdown(trainy)\n",
    " \n",
    "# load test file\n",
    "testy = load_file('UCI HAR Dataset/test/y_test.txt')\n",
    "# summarize class breakdown\n",
    "print('Test Dataset')\n",
    "class_breakdown(testy)\n",
    " \n",
    "# summarize combined class breakdown\n",
    "print('Both')\n",
    "combined = vstack((trainy, testy))\n",
    "class_breakdown(combined)"
   ]
  },
  {
   "cell_type": "markdown",
   "metadata": {},
   "source": [
    "### Trích đặc trưng từ Acc Sensor\n",
    "\n",
    "* Dữ liệu thô ban đầu nhận được chỉ số nhận được từ sensor theo thời gian với tần số lấy mẫu 50 Hz, và cửa sổ trượt là 2.56s cho ra vector 128 chiều, trên 3 trục x, y, z tạo nên tập đầu vào: (128,3)\n",
    "\n",
    "* Từ dữ liệu thô thực hiện phép trích đặc trưng biến đổi thành các đặc trưng mới bao gồm:\n",
    "\n",
    "=====> Trung bình\n",
    "\n",
    "=====> Trung vị\n",
    "\n",
    "=====> Phương sai\n",
    "\n",
    "=====> Min\n",
    "\n",
    "=====> Max \n",
    "\n",
    "=====> sma(): Khu vực cường độ tín hiệu (=sum): https://en.wikipedia.org/wiki/Signal_magnitude_area\n",
    "\n",
    "=====> energy(): Tổng bình phương chia cho số lượng giá trị.\n",
    "\n",
    "=====> iqr(): Độ trải giữa (còn gọi là khoảng tứ phân vị) là một đại lượng số đo lường mức độ phân tán của tập dữ liệu. Đại lượng này được tính ra bằng cách lấy giá trị tứ phân vị thứ ba trừ đi giá trị tứ phân vị thứ nhất.\n",
    "\n",
    "Tứ phân vị là đại lượng mô tả sự phân bố và sự phân tán của tập dữ liệu. Tứ phân vị có 3 giá trị, đó là tứ phân vị thứ nhất, thứ nhì, và thứ ba. \n",
    "\n",
    "Ví dụ: Tập dữ liệu bao gồm {5, 7, 9, 14, 25, 34, 48}\n",
    "\n",
    "Tập dữ liệu trên đã được sắp xếp theo thứ tự tăng dần, dễ dàng nhận thấy giá trị trung vị nằm giữa chính là 14\n",
    "\n",
    "Trung vị của tập dữ liệu phần dưới {5, 7, 9} là 7\n",
    "\n",
    "Và trung vị của tập dữ liệu phần trên {25, 34, 48} là 34\n",
    "\n",
    "Vậy Q1 = 7\n",
    "\n",
    "Q2 = 14\n",
    "\n",
    "Q3 = 34\n",
    "\n",
    "Tứ phân vị thứ nhất là trung vị phần dưới\n",
    "\n",
    "Tứ phân vị thứ ba là trung vị phần trên\n",
    "\n",
    "Tứ phân vị thứ 2 là giá trị trung vị trung vị \n",
    "\n",
    "\n",
    "=====> Signal entropy: entropy mức độ hỗn loại thông tin\n",
    "\n",
    "<font color=red>=====> arCoeff(): Autorregresion coefficients with Burg order equal to 4 tìm hiểu sau vì chưa đọc nhé</font>\n",
    "\n",
    "\n",
    "\n"
   ]
  },
  {
   "cell_type": "markdown",
   "metadata": {},
   "source": [
    "======> correlation(): hệ số tương quan giữa hai tín hiệu XY, XZ, YZ \n",
    "\n",
    "Hệ số tương quan: \n",
    "\n",
    "![](https://wikimedia.org/api/rest_v1/media/math/render/svg/93185aed3047ef42fa0f1b6e389a4e89a5654afa)"
   ]
  },
  {
   "cell_type": "markdown",
   "metadata": {},
   "source": [
    "![](https://scontent.fhan3-1.fna.fbcdn.net/v/t1.0-9/98276402_2410806442552906_269380108286951424_n.jpg?_nc_cat=110&_nc_sid=8024bb&_nc_ohc=2bSwLPc62kAAX8JnC_Z&_nc_ht=scontent.fhan3-1.fna&oh=8bb0ae8e896e59f05674d0a91dbf1335&oe=5EF2B2FD)"
   ]
  },
  {
   "cell_type": "markdown",
   "metadata": {},
   "source": [
    "=====> maxInds(): chỉ số của thành phần có cường độ lớn nhất\n",
    "\n",
    "=====> meanFreq(): Trung bình trọng số của các thành phần tần số để có được tần số trung bình\n",
    "\n",
    "=====> skewness(): độ lệch của tín hiệu miền tần số (độ lệch là thước đo sự bất đối xứng của phân phối xác suất của một biến ngẫu nhiên)\n",
    "\n",
    "Giá trị độ lệch có thể là dương, bằng 0, âm hoặc không xác định. \n",
    "\n",
    "![](https://upload.wikimedia.org/wikipedia/commons/thumb/f/f8/Negative_and_positive_skew_diagrams_%28English%29.svg/446px-Negative_and_positive_skew_diagrams_%28English%29.svg.png)"
   ]
  },
  {
   "cell_type": "markdown",
   "metadata": {},
   "source": [
    "=====> kurtosis(): \n",
    "\n",
    "=====> bandsEnergy():\n",
    "\n",
    "=====> angle():"
   ]
  },
  {
   "cell_type": "markdown",
   "metadata": {},
   "source": [
    "#### Các phương pháp giải quyết bài toán\n",
    "\n",
    "1. Đối với dữ liệu Raw thu được sensor là dữ liệu time series nên áp dụng các thuật toán sử dụng cho dữ liệu time series:\n",
    "\n",
    "+ LSTM model deeplearning\n",
    "\n",
    "+ CNN LSTM\n",
    "\n",
    "+ ARIMA ( Autoregressive integrated moving average)\n",
    "\n",
    "+ Prophet\n",
    "\n",
    "2. Dữ liệu được xử lý áp dụng phép biến đổi liên quan lý thuyết thông tin\n",
    "\n",
    "Các thông tin miền thời gian được biến đổi thành các đại lượng độc lập với thời gian có tính tổng thống kế trên toàn bộ tập dữ liệu, nên các thuật toán về dữ liệu phụ thuộc theo thời gian không còn phù hợp nữa.\n",
    "\n",
    "Các phương pháp áp dụng trong trường hợp này có thể được áp dụng:\n",
    "\n",
    "+ Thuật toán phân loại Tree Base Alogrithm: Cây quyết định, Rừng ngẫu nhiên.\n",
    "\n",
    "+ Nhóm thuật toán liến quan Boots: XGBoots, Ligt GBM, Cast Boots.\n",
    "\n",
    "+ Thuật toán deeplearning: CNN2D, CNN1D"
   ]
  },
  {
   "cell_type": "markdown",
   "metadata": {},
   "source": [
    "### Đánh giá hiệu quả các thuật toán:\n",
    "\n",
    "* CNN-LSTM:\n",
    "\n",
    "![](https://miro.medium.com/max/1248/1*oi7aobTZ-uUKkUa1k9DZOQ.png)\n",
    "\n",
    "\n",
    "![](https://miro.medium.com/max/668/1*JA2tkv2SlIXEivfNAQEuIg.png)\n",
    "\n",
    "ACC: 91.2%\n",
    "\n",
    "* LSTM: chưa hoàn thiện\n",
    "\n",
    "* ARAMA: chưa hoàn thiện\n",
    "\n",
    "\n"
   ]
  }
 ],
 "metadata": {
  "kernelspec": {
   "display_name": "Python 3",
   "language": "python",
   "name": "python3"
  },
  "language_info": {
   "codemirror_mode": {
    "name": "ipython",
    "version": 3
   },
   "file_extension": ".py",
   "mimetype": "text/x-python",
   "name": "python",
   "nbconvert_exporter": "python",
   "pygments_lexer": "ipython3",
   "version": "3.7.4"
  }
 },
 "nbformat": 4,
 "nbformat_minor": 4
}
