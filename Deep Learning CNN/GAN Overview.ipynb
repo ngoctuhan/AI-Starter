{
 "cells": [
  {
   "cell_type": "markdown",
   "id": "2a247ae6-818f-4fff-be73-06a180943801",
   "metadata": {},
   "source": [
    "## TẢN MẠN \n",
    "\n",
    "  Tôi đã rời bỏ công việc viết lách những kiến thức mình đọc được, mình trải qua cũng đã hơn 1 năm nay, lần cuối cùng tôi update một notbook về AI là 16 tháng trước. Cuộc sống của sinh viên năm cuối và một sinh viên mới ra trường bóp chết đi con người của tôi những ngày trước đó. Tôi lao vào làm product để kiếm thêm thu nhập trang trải cuộc sống. Nhưng dần dần tôi cảm thấy mệt mỏi mới hiện tại bởi tôi nghĩ ngày nào cũng căm đầu từ sáng đến tối, ngày nào cũng làm và code với những thứ có thể bản thân không yêu thích lắm từ AI, Android, Web... Bên cạnh đó lĩnh vực AI nói chung và computer vision là một trong lĩnh vực tôi yêu thích và tôi cảm thấy như đó là điểm mạnh nhất của mình nhưng tôi lại bỏ nó khá lâu và lớp bụi thời gian đã phủ kín những gì tôi biết sau nhiều ngày tôi không dung nạp và tìm hiểu những kiến thức mới. Một ngày tôi bống thấy một tài khoản github follow tài khoản của mình có share và fork những notebook của tôi về AI. Thực sự có lẻ ngày hôm đó là ngày vui nhất trong tôi trong năm qua. Bởi tôi cảm nhận được hoá ra những cái mình viết nó cũng có ích với ai đó, và có ai đó đang cần nó. Những cái mình đọc và viết thì không vô dụng. Niềm vui nhỏ bé đó giúp tôi có sự tự tin, khí thế giúp tôi viết lại những notebook. Có thể cũng không thể đểu đặn nhưng bản thân tôi cố gắng sẽ viết những gì khi mình đọc được một kiến thức mới sẽ có một cái notebook. "
   ]
  },
  {
   "cell_type": "markdown",
   "id": "0a11394b-3104-4a60-b897-117ebf3424f6",
   "metadata": {},
   "source": [
    "Trong lần trở lại này tôi hi vọng câu chuyện của mình có thể giúp một bộ phận ai đó có thể cảm thấy yêu và thích AI hơn. Bởi hơn hết AI không chỉ là toán, là sự phức tạp và mập mờ với những hidden layer, hay sự tính toán phức tạp của những phép gradient descent và update paramters. Với tôi AI thực sự là bạn, là một câu chuyện, mỗi giải thuật là một mảnh ghép một câu chuyện sinh động mà được rút ra và có những triết lý và bài học riêng về cuộc sống và sự thật. Điều đó thực sự là điều bổ ích và hi vọng mọi người cũng có thể ủng hộ tôi cũng như ủng hộ để phát triển AI trở nên tốt hơn và có ngày càng có nhiều ứng dụng hơn trong cuộc sống. Góp phần vào tạo ra giá trị và giúp cuộc sống trở nên tốt đẹp hơn."
   ]
  },
  {
   "cell_type": "markdown",
   "id": "d1ef3ba6-e4b3-498e-86ab-f73d741f69de",
   "metadata": {},
   "source": [
    "## GAN (Generative Adversarial Network)\n",
    "\n",
    "Câu chuyện lần này tôi muốn kể về một câu chuyện về GAN, nếu được dịch ra tiếng Việt đó là (mạng đối thủ chung) tôi cũng không thích cái tên này lắm, và không tự tin vào khả năng tiếng Anh của mình nên tôi gọi nó là GAN. \n",
    "\n",
    "* Ý tưởng bắt nguồn tự cuộc sống\n",
    "\n",
    "Phải chăng cuộc sống luôn đầy rẫy sự rối trá, tràn ngập sự lừa rối. Các hành vi lừa đảo ngày càng được tinh xảo, điều đó khiến các đơn vị chức năng trở nên khó khăn hơn trong cuông cuộc truy vết và phát hiện. Hãy tượng những bức tranh của những hoạ sỹ thiên tài thế giới bị làm giả chúng vẫn hằng ngày được rao bán và nhiều người vẫn mua về sử dụng. Mặc dù chúng ta biết có những đơn vị chức năng cũng đang cố gắng để phát triển kĩ thuật giúp phát hiện tranh gỉa nhưng thực sự bên làm giả ngày càng đưa ra những kĩ thuật mới những phương pháp mới, vận dụng cao những công nghệ đang có giúp cho tác phẩm làm giả hoàn thiện đến mức 99% so với hàng thật. https://nhandan.vn/nghe-doc-xem/lam-tranh-gia-ngay-cang-trang-tron-647252/\n",
    "\n",
    "Chưa dừng lại ở đó vấn nạn tiền giả luôn là vấn đề nan giải đặc biệt trong dip Tết, những mùa xuân mà chúng ta sử dụng lượng lớn tiền mặt. Nhưng phải nói là chính chúng ta cũng chưa lường hết được hậu quả và có thể phân biệt được tính nghiêm trọng của nó.\n",
    "\n",
    "Vậy tại sao tôi lại đưa câu chuyện đó vào trong phần giới thiệu về GAN?\n",
    "\n",
    "Nói một cách tổng quát: GAN là một mạng hai thành phần công an D luôn cố gắng phát hiện ra hành vi của tên tội phạm. G càng cố gắng tinh vi đến bao nhiêu, thì các anh công an D đẹp trai, thông minh với IQ vô cực sẽ phát hiện được thôi. Từ đó chúng ta rút ra một chân lý: \"Lưới trời lồng lộng tuy thưa mà khó lọt\". Nhưng thực tế lưới có dày đến mấy vẫn lọt được nhé. https://thispersondoesnotexist.com/. Hãy vào trang web kia và thử phân biệt, bạn có nghĩ đó là một người không tồn tại. Trình độ làm giả của mấy tên tội phạm G tinh vi lắm. Thực sự để mấy mấy anh công an D theo được nó luôn là một rào cản lớn. \n"
   ]
  },
  {
   "cell_type": "markdown",
   "id": "c0094693-cbc2-48ab-91f5-b9bee1213a50",
   "metadata": {},
   "source": [
    "Từ ý tưỏng đó GAN được phát triển bởi Ian Goodfellow et al.¹ in 2014. GAN được phát triển nhằm mục đích có thể sinh ra một loại dữ liệu mới nó có thể là mọt bức tranh mới, một khuôn mặt bất kì, hay là một tác phẩm nghệ thuật, cũng có thể là một đoạn nhạc mới. Ứng dụng của nó không tiêu cực như những ví dụ bên trên nó thực sự có những đóng góp đang kể trong cuộc sống giúp nghệ thuật và máy móc trở nên gần nhau hơn. \n",
    "\n",
    "Nhưng tại sau lại kể câu chuyện trên trong bài GAN chứ. Thực tế rằng để GAN có thể sinh ra được một loại dữ liệu mới như trang web thispersondosexist.com, một khuôn mặt mới được sinh ra ngẫu nhiên. Kết quả đó là một cấu trúc mạng đối thủ người đánh kẻ chạy hai bên dượt đuổi nhau. Một mô hình hình cố gắng sinh ra một khuôn mặt từ một đống dữ liệu ngẫu nhiên ban đầu đại diện cho phe ác, một bên còn lại đại diện cho công lý đang cố gắng dượt đuổi và phân biệt bức ảnh được sinh ra ban đầu là giả. "
   ]
  },
  {
   "cell_type": "markdown",
   "id": "433667b8-191d-4b4c-8385-4c737fce4627",
   "metadata": {},
   "source": [
    "* GAN và cấu trúc của GAN\n",
    "\n",
    "Như đã nhắc trên GAN là một kiến trúc mạng gồm 2 phần:\n",
    " \n",
    " \n",
    "<img src=\"https://developers.google.com/machine-learning/gan/images/gan_diagram.svg\" alt=\"\" srcset=\"\">"
   ]
  },
  {
   "cell_type": "markdown",
   "id": "df270c36-431f-4fb5-a978-bdc1b1d3e1a2",
   "metadata": {},
   "source": []
  }
 ],
 "metadata": {
  "kernelspec": {
   "display_name": "Python 3",
   "language": "python",
   "name": "python3"
  },
  "language_info": {
   "codemirror_mode": {
    "name": "ipython",
    "version": 3
   },
   "file_extension": ".py",
   "mimetype": "text/x-python",
   "name": "python",
   "nbconvert_exporter": "python",
   "pygments_lexer": "ipython3",
   "version": "3.8.8"
  }
 },
 "nbformat": 4,
 "nbformat_minor": 5
}
